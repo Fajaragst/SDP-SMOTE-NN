{
 "cells": [
  {
   "cell_type": "markdown",
   "metadata": {
    "colab_type": "text",
    "id": "ePgXAR0b4A5f"
   },
   "source": [
    "# Software Defect Prediction using SMOTE based Neural Network"
   ]
  },
  {
   "cell_type": "markdown",
   "metadata": {
    "colab_type": "text",
    "id": "nlL1Jcmq5oek"
   },
   "source": [
    "## Reproducible"
   ]
  },
  {
   "cell_type": "code",
   "execution_count": 1,
   "metadata": {
    "colab": {
     "base_uri": "https://localhost:8080/",
     "height": 35
    },
    "colab_type": "code",
    "id": "hbDyluw15oK8",
    "outputId": "f6716840-197b-4746-d2ef-19971d384373"
   },
   "outputs": [
    {
     "name": "stderr",
     "output_type": "stream",
     "text": [
      "Using TensorFlow backend.\n"
     ]
    }
   ],
   "source": [
    "def repro():\n",
    "  # Seed value\n",
    "  # Apparently you may use different seed values at each stage\n",
    "  seed_value= 42\n",
    "\n",
    "  # 1. Set the `PYTHONHASHSEED` environment variable at a fixed value\n",
    "  import os\n",
    "  os.environ['PYTHONHASHSEED']=str(seed_value)\n",
    "\n",
    "  # 2. Set the `python` built-in pseudo-random generator at a fixed value\n",
    "  import random\n",
    "  random.seed(seed_value)\n",
    "\n",
    "  # 3. Set the `numpy` pseudo-random generator at a fixed value\n",
    "  import numpy as np\n",
    "  np.random.seed(seed_value)\n",
    "\n",
    "  # 4. Set the `tensorflow` pseudo-random generator at a fixed value\n",
    "  import tensorflow as tf\n",
    "  tf.random.set_seed(seed_value)\n",
    "  # for later versions: \n",
    "  # tf.compat.v1.set_random_seed(seed_value)\n",
    "\n",
    "  # 5. Configure a new global `tensorflow` session\n",
    "  from keras import backend as K\n",
    "  # session_conf = tf.ConfigProto(intra_op_parallelism_threads=1, inter_op_parallelism_threads=1)\n",
    "  # sess = tf.Session(graph=tf.get_default_graph(), config=session_conf)\n",
    "  # K.set_session(sess)\n",
    "  # for later versions:\n",
    "  session_conf = tf.compat.v1.ConfigProto(intra_op_parallelism_threads=1, inter_op_parallelism_threads=1)\n",
    "  sess = tf.compat.v1.Session(graph=tf.compat.v1.get_default_graph(), config=session_conf)\n",
    "  tf.compat.v1.keras.backend.set_session(sess)\n",
    "repro()"
   ]
  },
  {
   "cell_type": "code",
   "execution_count": 2,
   "metadata": {
    "colab": {},
    "colab_type": "code",
    "id": "KWMbR2s__Y1F"
   },
   "outputs": [],
   "source": [
    "repro()"
   ]
  },
  {
   "cell_type": "markdown",
   "metadata": {
    "colab_type": "text",
    "id": "xyYtsD1d4tnW"
   },
   "source": [
    "## Import"
   ]
  },
  {
   "cell_type": "code",
   "execution_count": 3,
   "metadata": {
    "colab": {
     "base_uri": "https://localhost:8080/",
     "height": 107
    },
    "colab_type": "code",
    "id": "j-Y5r-lV4Aa1",
    "outputId": "6ab1266c-b118-4510-dc9e-1629932a9420"
   },
   "outputs": [],
   "source": [
    "import pandas as pd\n",
    "import numpy as np\n",
    "\n",
    "from sklearn.metrics import confusion_matrix    #Confussion Matrix\n",
    "from sklearn import metrics                     #Evaluation Measurment\\\n",
    "from sklearn.preprocessing import MinMaxScaler\n",
    "from sklearn.model_selection import RandomizedSearchCV\n",
    "from sklearn.model_selection import StratifiedKFold\n",
    "from sklearn.model_selection import cross_validate\n",
    "\n",
    "from sklearn.naive_bayes import GaussianNB\n",
    "from sklearn.ensemble import RandomForestClassifier\n",
    "from sklearn.linear_model import LogisticRegression\n",
    "from sklearn.tree import DecisionTreeClassifier\n",
    "from sklearn.neighbors import KNeighborsClassifier\n",
    "from sklearn.svm import SVC\n",
    "\n",
    "from tensorflow.keras.models import Sequential       \n",
    "from tensorflow.keras.layers import Dense\n",
    "from tensorflow.keras.layers import Dropout\n",
    "from tensorflow.keras import optimizers\n",
    "from keras.wrappers.scikit_learn import KerasClassifier\n",
    "import keras\n",
    "# from tensorflow.keras import optimizers\n",
    "\n",
    "import math\n",
    "\n",
    "from scipy.stats import uniform\n",
    "\n",
    "import matplotlib.pyplot as plt                 #Visualisasi\n",
    "\n",
    "from imblearn.pipeline import Pipeline\n",
    "from imblearn.over_sampling import SMOTE\n",
    "\n",
    "modelrf=RandomForestClassifier(random_state=42)\n",
    "modelnb = GaussianNB()\n",
    "modellogreg = LogisticRegression()\n",
    "modeldt = DecisionTreeClassifier()\n",
    "modelsvm = SVC()\n",
    "\n",
    "import tensorflow as tf\n",
    "\n",
    "import warnings\n",
    "from sklearn.exceptions import DataConversionWarning\n",
    "warnings.filterwarnings(action='ignore')\n",
    "from IPython.display import display\n"
   ]
  },
  {
   "cell_type": "markdown",
   "metadata": {
    "colab_type": "text",
    "id": "whrZA7Vv4vds"
   },
   "source": [
    "## Load Dataset"
   ]
  },
  {
   "cell_type": "code",
   "execution_count": 4,
   "metadata": {
    "colab": {
     "base_uri": "https://localhost:8080/",
     "height": 713
    },
    "colab_type": "code",
    "id": "LdURQKPa4omK",
    "outputId": "a06c2c79-7c82-4bdd-b57d-cdc5988f0860",
    "scrolled": true
   },
   "outputs": [
    {
     "data": {
      "text/html": [
       "<div>\n",
       "<style scoped>\n",
       "    .dataframe tbody tr th:only-of-type {\n",
       "        vertical-align: middle;\n",
       "    }\n",
       "\n",
       "    .dataframe tbody tr th {\n",
       "        vertical-align: top;\n",
       "    }\n",
       "\n",
       "    .dataframe thead th {\n",
       "        text-align: right;\n",
       "    }\n",
       "</style>\n",
       "<table border=\"1\" class=\"dataframe\">\n",
       "  <thead>\n",
       "    <tr style=\"text-align: right;\">\n",
       "      <th></th>\n",
       "      <th>Dataset</th>\n",
       "      <th>Data</th>\n",
       "      <th>Feature</th>\n",
       "    </tr>\n",
       "  </thead>\n",
       "  <tbody>\n",
       "    <tr>\n",
       "      <th>0</th>\n",
       "      <td>CM1</td>\n",
       "      <td>498</td>\n",
       "      <td>22</td>\n",
       "    </tr>\n",
       "    <tr>\n",
       "      <th>1</th>\n",
       "      <td>JM1</td>\n",
       "      <td>10880</td>\n",
       "      <td>22</td>\n",
       "    </tr>\n",
       "    <tr>\n",
       "      <th>2</th>\n",
       "      <td>MW1</td>\n",
       "      <td>253</td>\n",
       "      <td>38</td>\n",
       "    </tr>\n",
       "    <tr>\n",
       "      <th>3</th>\n",
       "      <td>KC1</td>\n",
       "      <td>2109</td>\n",
       "      <td>22</td>\n",
       "    </tr>\n",
       "    <tr>\n",
       "      <th>4</th>\n",
       "      <td>KC2</td>\n",
       "      <td>522</td>\n",
       "      <td>22</td>\n",
       "    </tr>\n",
       "    <tr>\n",
       "      <th>5</th>\n",
       "      <td>PC1</td>\n",
       "      <td>1109</td>\n",
       "      <td>22</td>\n",
       "    </tr>\n",
       "    <tr>\n",
       "      <th>6</th>\n",
       "      <td>PC2</td>\n",
       "      <td>745</td>\n",
       "      <td>37</td>\n",
       "    </tr>\n",
       "    <tr>\n",
       "      <th>7</th>\n",
       "      <td>PC3</td>\n",
       "      <td>1077</td>\n",
       "      <td>38</td>\n",
       "    </tr>\n",
       "    <tr>\n",
       "      <th>8</th>\n",
       "      <td>PC4</td>\n",
       "      <td>1458</td>\n",
       "      <td>38</td>\n",
       "    </tr>\n",
       "  </tbody>\n",
       "</table>\n",
       "</div>"
      ],
      "text/plain": [
       "  Dataset   Data  Feature\n",
       "0     CM1    498       22\n",
       "1     JM1  10880       22\n",
       "2     MW1    253       38\n",
       "3     KC1   2109       22\n",
       "4     KC2    522       22\n",
       "5     PC1   1109       22\n",
       "6     PC2    745       37\n",
       "7     PC3   1077       38\n",
       "8     PC4   1458       38"
      ]
     },
     "execution_count": 4,
     "metadata": {},
     "output_type": "execute_result"
    },
    {
     "data": {
      "image/png": "[encoded data removed]",
      "text/plain": [
       "<Figure size 648x216 with 1 Axes>"
      ]
     },
     "metadata": {
      "needs_background": "light"
     },
     "output_type": "display_data"
    },
    {
     "data": {
      "image/png": "[encoded data removed]",
      "text/plain": [
       "<Figure size 648x216 with 1 Axes>"
      ]
     },
     "metadata": {
      "needs_background": "light"
     },
     "output_type": "display_data"
    }
   ],
   "source": [
    "repro()\n",
    "#Import CM1 Dataset\n",
    "data_cm1 = pd.read_csv('Dataset/clean/CM1.csv')\n",
    "\n",
    "#import + Preprocess JM1 Dataset\n",
    "data_jm1 = pd.read_csv('Dataset/clean/JM1.csv')\n",
    "indexNames = data_jm1[ data_jm1['branchCount'] == '?' ].index\n",
    "data_jm1.drop(indexNames , inplace=True)\n",
    "\n",
    "#import MW1 Dataset\n",
    "data_mw1 = pd.read_csv('Dataset/clean/MW1.csv')\n",
    "\n",
    "#import KC1 Dataset\n",
    "data_kc1 = pd.read_csv('Dataset/clean/KC1.csv')\n",
    "\n",
    "#import KC2 Dataset ------------------\n",
    "data_kc2 = pd.read_csv('Dataset/clean/KC2.csv')\n",
    "\n",
    "#import PC1 Dataset\n",
    "data_pc1 = pd.read_csv('Dataset/clean/PC1.csv')\n",
    "\n",
    "#import PC2 Dataset -------------\n",
    "data_pc2 = pd.read_csv('Dataset/clean/PC2.csv')\n",
    "\n",
    "#import PC3 Dataset ----------------\n",
    "data_pc3 = pd.read_csv('Dataset/clean/PC3.csv')\n",
    "\n",
    "#import PC4 Dataset\n",
    "data_pc4 = pd.read_csv('Dataset/clean/PC4.csv')\n",
    "\n",
    "\n",
    "#Visualisasi Jumlah Data\n",
    "names = ['CM1', 'JM1', 'MW1', 'KC1', 'KC2', 'PC1', 'PC2', 'PC3', 'PC4']\n",
    "values_data = [data_cm1.shape[0], data_jm1.shape[0], data_mw1.shape[0],data_kc1.shape[0],data_kc2.shape[0],\n",
    "          data_pc1.shape[0],data_pc2.shape[0],data_pc3.shape[0],data_pc4.shape[0]]\n",
    "plt.figure(figsize=(9, 3))\n",
    "plt.bar(names, values_data)\n",
    "\n",
    "#Visualisasi Jumlah Fitur\n",
    "values_feature = [data_cm1.shape[1], data_jm1.shape[1], data_mw1.shape[1],data_kc1.shape[1],data_kc2.shape[1],\n",
    "          data_pc1.shape[1],data_pc2.shape[1],data_pc3.shape[1],data_pc4.shape[1]]\n",
    "plt.figure(figsize=(9, 3))\n",
    "plt.bar(names, values_feature)\n",
    "\n",
    "# data_pc4.iloc[:, data_pc4.columns != 'c'] = scaler.fit_transform(data_pc4.iloc[:, data_pc4.columns != 'c'])\n",
    "# data_pc3.iloc[:, data_pc3.columns != 'Defective'] = scaler.fit_transform(data_pc3.iloc[:, data_pc3.columns != 'Defective'])\n",
    "\n",
    "Dataset = {'Dataset': ['CM1', 'JM1', 'MW1', 'KC1', 'KC2', 'PC1', 'PC2', 'PC3', 'PC4'],\n",
    "           'Data': [data_cm1.shape[0], data_jm1.shape[0], data_mw1.shape[0],data_kc1.shape[0],data_kc2.shape[0],\n",
    "                    data_pc1.shape[0],data_pc2.shape[0],data_pc3.shape[0],data_pc4.shape[0]],\n",
    "           'Feature': [data_cm1.shape[1], data_jm1.shape[1], data_mw1.shape[1],data_kc1.shape[1],data_kc2.shape[1],\n",
    "                       data_pc1.shape[1],data_pc2.shape[1],data_pc3.shape[1],data_pc4.shape[1]]\n",
    "        }\n",
    "\n",
    "df = pd.DataFrame(Dataset, columns = ['Dataset', 'Data','Feature'])\n",
    "df"
   ]
  },
  {
   "cell_type": "markdown",
   "metadata": {
    "colab_type": "text",
    "id": "rLUfG0hJ53gF"
   },
   "source": [
    "## Min-Max Scaller"
   ]
  },
  {
   "cell_type": "code",
   "execution_count": 5,
   "metadata": {
    "colab": {},
    "colab_type": "code",
    "id": "zbpfgILH55Zl"
   },
   "outputs": [],
   "source": [
    "repro()\n",
    "scaler = MinMaxScaler()\n",
    "\n",
    "data_cm1.iloc[:, data_cm1.columns != 'class'] = scaler.fit_transform(data_cm1.iloc[:, data_cm1.columns != 'class'])\n",
    "data_jm1.iloc[:, data_jm1.columns != 'defects'] = scaler.fit_transform(data_jm1.iloc[:, data_jm1.columns != 'defects'])\n",
    "data_kc1.iloc[:, data_kc1.columns != 'class'] = scaler.fit_transform(data_kc1.iloc[:, data_kc1.columns != 'class'])\n",
    "data_kc2.iloc[:, data_kc2.columns != 'class'] = scaler.fit_transform(data_kc2.iloc[:, data_kc2.columns != 'class'])\n",
    "data_pc1.iloc[:, data_pc1.columns != 'class'] = scaler.fit_transform(data_pc1.iloc[:, data_pc1.columns != 'class'])\n",
    "data_pc2.iloc[:, data_pc2.columns != 'Defective'] = scaler.fit_transform(data_pc2.iloc[:, data_pc2.columns != 'Defective'])\n",
    "data_pc3.iloc[:, data_pc3.columns != 'Defective'] = scaler.fit_transform(data_pc3.iloc[:, data_pc3.columns != 'Defective'])\n",
    "data_pc4.iloc[:, data_pc4.columns != 'c'] = scaler.fit_transform(data_pc4.iloc[:, data_pc4.columns != 'c'])"
   ]
  },
  {
   "cell_type": "markdown",
   "metadata": {
    "colab_type": "text",
    "id": "zY9VZ3j-U2aU"
   },
   "source": [
    "## Evaluation Metric"
   ]
  },
  {
   "cell_type": "code",
   "execution_count": 6,
   "metadata": {
    "colab": {},
    "colab_type": "code",
    "id": "wQSzSW9fU4hk"
   },
   "outputs": [],
   "source": [
    "def bal(y_true, Y_pred):\n",
    "    repro()\n",
    "    tn, fp, fn, tp = confusion_matrix(y_true, Y_pred, labels=[0,1]).ravel()\n",
    "    pf = fp/(fp+tn)\n",
    "    bal = 1 - ((math.sqrt((1-recall(y_true, Y_pred))**2+ pf**2))/(math.sqrt(2)))\n",
    "    return bal\n",
    "\n",
    "def auc(y_true, Y_pred):\n",
    "    repro()\n",
    "    # fpr, tpr, thresholds = metrics.roc_curve(y_test, Y_pred, pos_label=True)\n",
    "    auc = metrics.roc_auc_score(y_true, Y_pred)\n",
    "    return auc\n",
    "\n",
    "def gmeans(y_true, Y_pred):\n",
    "    # repro()\n",
    "    tn, fp, fn, tp = confusion_matrix(y_true, Y_pred, labels=[0,1]).ravel()\n",
    "    pf = fp/(fp+tn)\n",
    "    pd = tp/(tp+fn)\n",
    "    gmeans = math.sqrt(pd*(1-pf))\n",
    "    return gmeans\n",
    "\n",
    "def pf(y_true, Y_pred):\n",
    "    repro()\n",
    "    tn, fp, fn, tp = confusion_matrix(y_true, Y_pred, labels=[0,1]).ravel()\n",
    "    # print(tn)\n",
    "    pf = fp/(fp+tn)\n",
    "    return pf\n",
    "\n",
    "def recall(y_true, Y_pred):\n",
    "  repro()\n",
    "  tn, fp, fn, tp = confusion_matrix(y_true, Y_pred, labels=[0,1]).ravel()\n",
    "  pd = tp/(tp+fn)\n",
    "  return pd"
   ]
  },
  {
   "cell_type": "markdown",
   "metadata": {
    "colab_type": "text",
    "id": "3iW8qkdw6ssD"
   },
   "source": [
    "## KNN"
   ]
  },
  {
   "cell_type": "code",
   "execution_count": 8,
   "metadata": {},
   "outputs": [],
   "source": [
    "def search_DT(data, \n",
    "              y_name, \n",
    "              fold,\n",
    "              smote = True):\n",
    "\n",
    "  X = data.iloc[:, data.columns != y_name ]\n",
    "  y = data[y_name]\n",
    "\n",
    "  kfold_inner = StratifiedKFold(n_splits=fold, shuffle=True, random_state=42)\n",
    "  kfold_outer = StratifiedKFold(n_splits=fold, shuffle=True, random_state=42)\n",
    "  sm = SMOTE(random_state=42)\n",
    "\n",
    "  model = KNeighborsClassifier()\n",
    "    \n",
    "#, max_depth=depth, n_estimators=estimator\n",
    "  scoring = {'recall': metrics.make_scorer(recall), \n",
    "             'bal': metrics.make_scorer(bal), \n",
    "             'auc':metrics.make_scorer(metrics.roc_auc_score), \n",
    "             'gmeans':metrics.make_scorer(gmeans)}\n",
    "\n",
    "  \n",
    "  if (smote == True):\n",
    "    pipeline = Pipeline([('sm', sm), ('clf', model)])\n",
    "    distributions = dict(clf__leaf_size = [ 1,  6, 11, 16, 21, 26, 31, 36, 41, 46, 51, 56, 61, 66, 71, 76, 81, 86, 91, 96, 100],\n",
    "                         clf__n_neighbors = [ 1,  2,  3,  4,  5,  6,  7,  8,  9, 10],\n",
    "                         sm__k_neighbors = [ 1,  2,  3,  4,  5,  6,  7,  8,  9, 10],\n",
    "                         sm__sampling_strategy = [0.8 , 0.81, 0.82, 0.83, 0.84, 0.85, 0.86, 0.87, 0.88, 0.89, 0.9 ,\n",
    "                                                  0.91, 0.92, 0.93, 0.94, 0.95, 0.96, 0.97, 0.98, 0.99])\n",
    "#   else:\n",
    "#     pipeline = Pipeline([('clf', model)])\n",
    "#     distributions = dict(clf__max_depth = np.arange(5,10,1))\n",
    "    \n",
    "  clf = RandomizedSearchCV(pipeline, distributions, random_state=42, cv=kfold_inner, scoring = scoring, refit = 'bal', n_jobs = -1, n_iter=50, verbose = 1)\n",
    "  result = cross_validate(clf, X=X, y=y, cv=kfold_outer, scoring=scoring)\n",
    "  print('bal: ', result['test_bal'].mean())\n",
    "  print('recall: ', result['test_recall'].mean())\n",
    "  print('auc: ', result['test_auc'].mean())\n",
    "  print('gmeans: ', result['test_gmeans'].mean())"
   ]
  },
  {
   "cell_type": "markdown",
   "metadata": {
    "colab_type": "text",
    "id": "pvF5VQkh62qy"
   },
   "source": [
    "### KC1"
   ]
  },
  {
   "cell_type": "code",
   "execution_count": 9,
   "metadata": {
    "scrolled": true
   },
   "outputs": [
    {
     "name": "stdout",
     "output_type": "stream",
     "text": [
      "Fitting 5 folds for each of 50 candidates, totalling 250 fits\n"
     ]
    },
    {
     "name": "stderr",
     "output_type": "stream",
     "text": [
      "[Parallel(n_jobs=-1)]: Using backend LokyBackend with 8 concurrent workers.\n",
      "[Parallel(n_jobs=-1)]: Done  34 tasks      | elapsed:   19.0s\n",
      "[Parallel(n_jobs=-1)]: Done 184 tasks      | elapsed:   53.0s\n",
      "[Parallel(n_jobs=-1)]: Done 250 out of 250 | elapsed:  1.1min finished\n"
     ]
    },
    {
     "name": "stdout",
     "output_type": "stream",
     "text": [
      "Fitting 5 folds for each of 50 candidates, totalling 250 fits\n"
     ]
    },
    {
     "name": "stderr",
     "output_type": "stream",
     "text": [
      "[Parallel(n_jobs=-1)]: Using backend LokyBackend with 8 concurrent workers.\n",
      "[Parallel(n_jobs=-1)]: Done  34 tasks      | elapsed:    8.7s\n",
      "[Parallel(n_jobs=-1)]: Done 184 tasks      | elapsed:   40.4s\n",
      "[Parallel(n_jobs=-1)]: Done 250 out of 250 | elapsed:   54.2s finished\n"
     ]
    },
    {
     "name": "stdout",
     "output_type": "stream",
     "text": [
      "Fitting 5 folds for each of 50 candidates, totalling 250 fits\n"
     ]
    },
    {
     "name": "stderr",
     "output_type": "stream",
     "text": [
      "[Parallel(n_jobs=-1)]: Using backend LokyBackend with 8 concurrent workers.\n",
      "[Parallel(n_jobs=-1)]: Done  34 tasks      | elapsed:    7.8s\n",
      "[Parallel(n_jobs=-1)]: Done 184 tasks      | elapsed:   39.9s\n",
      "[Parallel(n_jobs=-1)]: Done 250 out of 250 | elapsed:   53.5s finished\n"
     ]
    },
    {
     "name": "stdout",
     "output_type": "stream",
     "text": [
      "Fitting 5 folds for each of 50 candidates, totalling 250 fits\n"
     ]
    },
    {
     "name": "stderr",
     "output_type": "stream",
     "text": [
      "[Parallel(n_jobs=-1)]: Using backend LokyBackend with 8 concurrent workers.\n",
      "[Parallel(n_jobs=-1)]: Done  34 tasks      | elapsed:    8.7s\n",
      "[Parallel(n_jobs=-1)]: Done 184 tasks      | elapsed:   41.8s\n",
      "[Parallel(n_jobs=-1)]: Done 250 out of 250 | elapsed:   57.6s finished\n"
     ]
    },
    {
     "name": "stdout",
     "output_type": "stream",
     "text": [
      "Fitting 5 folds for each of 50 candidates, totalling 250 fits\n"
     ]
    },
    {
     "name": "stderr",
     "output_type": "stream",
     "text": [
      "[Parallel(n_jobs=-1)]: Using backend LokyBackend with 8 concurrent workers.\n",
      "[Parallel(n_jobs=-1)]: Done  34 tasks      | elapsed:   11.4s\n",
      "[Parallel(n_jobs=-1)]: Done 184 tasks      | elapsed:   46.0s\n",
      "[Parallel(n_jobs=-1)]: Done 250 out of 250 | elapsed:   59.9s finished\n"
     ]
    },
    {
     "name": "stdout",
     "output_type": "stream",
     "text": [
      "bal:  0.7075084373908205\n",
      "recall:  0.7238228438228439\n",
      "auc:  0.7110419730082652\n",
      "gmeans:  0.7097582531263477\n"
     ]
    }
   ],
   "source": [
    "repro()\n",
    "search_rf_kc1 = search_DT(data_kc1, 'class', 5, smote=True)"
   ]
  },
  {
   "cell_type": "markdown",
   "metadata": {
    "colab_type": "text",
    "id": "NDTBS4PD65PC"
   },
   "source": [
    "### KC2"
   ]
  },
  {
   "cell_type": "code",
   "execution_count": 10,
   "metadata": {
    "scrolled": true
   },
   "outputs": [
    {
     "name": "stdout",
     "output_type": "stream",
     "text": [
      "Fitting 5 folds for each of 50 candidates, totalling 250 fits\n"
     ]
    },
    {
     "name": "stderr",
     "output_type": "stream",
     "text": [
      "[Parallel(n_jobs=-1)]: Using backend LokyBackend with 8 concurrent workers.\n",
      "[Parallel(n_jobs=-1)]: Done  34 tasks      | elapsed:    8.1s\n",
      "[Parallel(n_jobs=-1)]: Done 184 tasks      | elapsed:   41.8s\n",
      "[Parallel(n_jobs=-1)]: Done 250 out of 250 | elapsed:   56.2s finished\n"
     ]
    },
    {
     "name": "stdout",
     "output_type": "stream",
     "text": [
      "Fitting 5 folds for each of 50 candidates, totalling 250 fits\n"
     ]
    },
    {
     "name": "stderr",
     "output_type": "stream",
     "text": [
      "[Parallel(n_jobs=-1)]: Using backend LokyBackend with 8 concurrent workers.\n",
      "[Parallel(n_jobs=-1)]: Done  34 tasks      | elapsed:    8.4s\n",
      "[Parallel(n_jobs=-1)]: Done 184 tasks      | elapsed:   43.7s\n",
      "[Parallel(n_jobs=-1)]: Done 250 out of 250 | elapsed:   57.8s finished\n"
     ]
    },
    {
     "name": "stdout",
     "output_type": "stream",
     "text": [
      "Fitting 5 folds for each of 50 candidates, totalling 250 fits\n"
     ]
    },
    {
     "name": "stderr",
     "output_type": "stream",
     "text": [
      "[Parallel(n_jobs=-1)]: Using backend LokyBackend with 8 concurrent workers.\n",
      "[Parallel(n_jobs=-1)]: Done  34 tasks      | elapsed:    8.2s\n",
      "[Parallel(n_jobs=-1)]: Done 184 tasks      | elapsed:   41.4s\n",
      "[Parallel(n_jobs=-1)]: Done 250 out of 250 | elapsed:   55.2s finished\n"
     ]
    },
    {
     "name": "stdout",
     "output_type": "stream",
     "text": [
      "Fitting 5 folds for each of 50 candidates, totalling 250 fits\n"
     ]
    },
    {
     "name": "stderr",
     "output_type": "stream",
     "text": [
      "[Parallel(n_jobs=-1)]: Using backend LokyBackend with 8 concurrent workers.\n",
      "[Parallel(n_jobs=-1)]: Done  34 tasks      | elapsed:    7.6s\n",
      "[Parallel(n_jobs=-1)]: Done 184 tasks      | elapsed:   39.6s\n",
      "[Parallel(n_jobs=-1)]: Done 250 out of 250 | elapsed:   52.2s finished\n"
     ]
    },
    {
     "name": "stdout",
     "output_type": "stream",
     "text": [
      "Fitting 5 folds for each of 50 candidates, totalling 250 fits\n"
     ]
    },
    {
     "name": "stderr",
     "output_type": "stream",
     "text": [
      "[Parallel(n_jobs=-1)]: Using backend LokyBackend with 8 concurrent workers.\n",
      "[Parallel(n_jobs=-1)]: Done  34 tasks      | elapsed:    7.6s\n",
      "[Parallel(n_jobs=-1)]: Done 184 tasks      | elapsed:   37.3s\n",
      "[Parallel(n_jobs=-1)]: Done 250 out of 250 | elapsed:   49.8s finished\n"
     ]
    },
    {
     "name": "stdout",
     "output_type": "stream",
     "text": [
      "bal:  0.7568941854460896\n",
      "recall:  0.7471861471861472\n",
      "auc:  0.766364157930423\n",
      "gmeans:  0.7622432689566717\n"
     ]
    }
   ],
   "source": [
    "repro()\n",
    "search_kc2 = search_DT(data_kc2, 'class', 5, smote=True)"
   ]
  },
  {
   "cell_type": "markdown",
   "metadata": {},
   "source": [
    "### PC1"
   ]
  },
  {
   "cell_type": "code",
   "execution_count": 11,
   "metadata": {
    "scrolled": true
   },
   "outputs": [
    {
     "name": "stdout",
     "output_type": "stream",
     "text": [
      "Fitting 5 folds for each of 50 candidates, totalling 250 fits\n"
     ]
    },
    {
     "name": "stderr",
     "output_type": "stream",
     "text": [
      "[Parallel(n_jobs=-1)]: Using backend LokyBackend with 8 concurrent workers.\n",
      "[Parallel(n_jobs=-1)]: Done  34 tasks      | elapsed:    8.4s\n",
      "[Parallel(n_jobs=-1)]: Done 184 tasks      | elapsed:   38.7s\n",
      "[Parallel(n_jobs=-1)]: Done 250 out of 250 | elapsed:   51.2s finished\n"
     ]
    },
    {
     "name": "stdout",
     "output_type": "stream",
     "text": [
      "Fitting 5 folds for each of 50 candidates, totalling 250 fits\n"
     ]
    },
    {
     "name": "stderr",
     "output_type": "stream",
     "text": [
      "[Parallel(n_jobs=-1)]: Using backend LokyBackend with 8 concurrent workers.\n",
      "[Parallel(n_jobs=-1)]: Done  34 tasks      | elapsed:    7.8s\n",
      "[Parallel(n_jobs=-1)]: Done 184 tasks      | elapsed:   40.2s\n",
      "[Parallel(n_jobs=-1)]: Done 250 out of 250 | elapsed:   54.1s finished\n"
     ]
    },
    {
     "name": "stdout",
     "output_type": "stream",
     "text": [
      "Fitting 5 folds for each of 50 candidates, totalling 250 fits\n"
     ]
    },
    {
     "name": "stderr",
     "output_type": "stream",
     "text": [
      "[Parallel(n_jobs=-1)]: Using backend LokyBackend with 8 concurrent workers.\n",
      "[Parallel(n_jobs=-1)]: Done  34 tasks      | elapsed:    9.6s\n",
      "[Parallel(n_jobs=-1)]: Done 184 tasks      | elapsed:   41.5s\n",
      "[Parallel(n_jobs=-1)]: Done 250 out of 250 | elapsed:   59.7s finished\n"
     ]
    },
    {
     "name": "stdout",
     "output_type": "stream",
     "text": [
      "Fitting 5 folds for each of 50 candidates, totalling 250 fits\n"
     ]
    },
    {
     "name": "stderr",
     "output_type": "stream",
     "text": [
      "[Parallel(n_jobs=-1)]: Using backend LokyBackend with 8 concurrent workers.\n",
      "[Parallel(n_jobs=-1)]: Done  34 tasks      | elapsed:   19.8s\n",
      "[Parallel(n_jobs=-1)]: Done 184 tasks      | elapsed:  1.4min\n",
      "[Parallel(n_jobs=-1)]: Done 250 out of 250 | elapsed:  1.9min finished\n"
     ]
    },
    {
     "name": "stdout",
     "output_type": "stream",
     "text": [
      "Fitting 5 folds for each of 50 candidates, totalling 250 fits\n"
     ]
    },
    {
     "name": "stderr",
     "output_type": "stream",
     "text": [
      "[Parallel(n_jobs=-1)]: Using backend LokyBackend with 8 concurrent workers.\n",
      "[Parallel(n_jobs=-1)]: Done  34 tasks      | elapsed:   13.6s\n",
      "[Parallel(n_jobs=-1)]: Done 184 tasks      | elapsed:  1.2min\n",
      "[Parallel(n_jobs=-1)]: Done 250 out of 250 | elapsed:  1.7min finished\n"
     ]
    },
    {
     "name": "stdout",
     "output_type": "stream",
     "text": [
      "bal:  0.7736206371976065\n",
      "recall:  0.7925\n",
      "auc:  0.7794871839969983\n",
      "gmeans:  0.7778489787011824\n"
     ]
    }
   ],
   "source": [
    "repro()\n",
    "search_pc1 = search_DT(data_pc1, 'class', 5, smote=True)"
   ]
  },
  {
   "cell_type": "markdown",
   "metadata": {},
   "source": [
    "### PC3"
   ]
  },
  {
   "cell_type": "code",
   "execution_count": 12,
   "metadata": {
    "scrolled": true
   },
   "outputs": [
    {
     "name": "stdout",
     "output_type": "stream",
     "text": [
      "Fitting 5 folds for each of 50 candidates, totalling 250 fits\n"
     ]
    },
    {
     "name": "stderr",
     "output_type": "stream",
     "text": [
      "[Parallel(n_jobs=-1)]: Using backend LokyBackend with 8 concurrent workers.\n",
      "[Parallel(n_jobs=-1)]: Done  34 tasks      | elapsed:   14.6s\n",
      "[Parallel(n_jobs=-1)]: Done 184 tasks      | elapsed:  1.2min\n",
      "[Parallel(n_jobs=-1)]: Done 250 out of 250 | elapsed:  1.6min finished\n"
     ]
    },
    {
     "name": "stdout",
     "output_type": "stream",
     "text": [
      "Fitting 5 folds for each of 50 candidates, totalling 250 fits\n"
     ]
    },
    {
     "name": "stderr",
     "output_type": "stream",
     "text": [
      "[Parallel(n_jobs=-1)]: Using backend LokyBackend with 8 concurrent workers.\n",
      "[Parallel(n_jobs=-1)]: Done  34 tasks      | elapsed:   14.0s\n",
      "[Parallel(n_jobs=-1)]: Done 184 tasks      | elapsed:  1.2min\n",
      "[Parallel(n_jobs=-1)]: Done 250 out of 250 | elapsed:  1.6min finished\n"
     ]
    },
    {
     "name": "stdout",
     "output_type": "stream",
     "text": [
      "Fitting 5 folds for each of 50 candidates, totalling 250 fits\n"
     ]
    },
    {
     "name": "stderr",
     "output_type": "stream",
     "text": [
      "[Parallel(n_jobs=-1)]: Using backend LokyBackend with 8 concurrent workers.\n",
      "[Parallel(n_jobs=-1)]: Done  34 tasks      | elapsed:   13.7s\n",
      "[Parallel(n_jobs=-1)]: Done 184 tasks      | elapsed:  1.2min\n",
      "[Parallel(n_jobs=-1)]: Done 250 out of 250 | elapsed:  1.5min finished\n"
     ]
    },
    {
     "name": "stdout",
     "output_type": "stream",
     "text": [
      "Fitting 5 folds for each of 50 candidates, totalling 250 fits\n"
     ]
    },
    {
     "name": "stderr",
     "output_type": "stream",
     "text": [
      "[Parallel(n_jobs=-1)]: Using backend LokyBackend with 8 concurrent workers.\n",
      "[Parallel(n_jobs=-1)]: Done  34 tasks      | elapsed:   16.0s\n",
      "[Parallel(n_jobs=-1)]: Done 184 tasks      | elapsed:  1.3min\n",
      "[Parallel(n_jobs=-1)]: Done 250 out of 250 | elapsed:  1.7min finished\n"
     ]
    },
    {
     "name": "stdout",
     "output_type": "stream",
     "text": [
      "Fitting 5 folds for each of 50 candidates, totalling 250 fits\n"
     ]
    },
    {
     "name": "stderr",
     "output_type": "stream",
     "text": [
      "[Parallel(n_jobs=-1)]: Using backend LokyBackend with 8 concurrent workers.\n",
      "[Parallel(n_jobs=-1)]: Done  34 tasks      | elapsed:   15.7s\n",
      "[Parallel(n_jobs=-1)]: Done 184 tasks      | elapsed:  1.3min\n",
      "[Parallel(n_jobs=-1)]: Done 250 out of 250 | elapsed:  1.8min finished\n"
     ]
    },
    {
     "name": "stdout",
     "output_type": "stream",
     "text": [
      "bal:  0.7324845009703858\n",
      "recall:  0.7227920227920228\n",
      "auc:  0.7352308644861836\n",
      "gmeans:  0.7339019054667718\n"
     ]
    }
   ],
   "source": [
    "repro()\n",
    "search_pc3 = search_DT(data_pc3, 'Defective', 5, smote=True)"
   ]
  },
  {
   "cell_type": "markdown",
   "metadata": {},
   "source": [
    "### PC4"
   ]
  },
  {
   "cell_type": "code",
   "execution_count": 13,
   "metadata": {
    "scrolled": true
   },
   "outputs": [
    {
     "name": "stdout",
     "output_type": "stream",
     "text": [
      "Fitting 5 folds for each of 50 candidates, totalling 250 fits\n"
     ]
    },
    {
     "name": "stderr",
     "output_type": "stream",
     "text": [
      "[Parallel(n_jobs=-1)]: Using backend LokyBackend with 8 concurrent workers.\n",
      "[Parallel(n_jobs=-1)]: Done  34 tasks      | elapsed:   14.3s\n",
      "[Parallel(n_jobs=-1)]: Done 184 tasks      | elapsed:  1.3min\n",
      "[Parallel(n_jobs=-1)]: Done 250 out of 250 | elapsed:  1.7min finished\n"
     ]
    },
    {
     "name": "stdout",
     "output_type": "stream",
     "text": [
      "Fitting 5 folds for each of 50 candidates, totalling 250 fits\n"
     ]
    },
    {
     "name": "stderr",
     "output_type": "stream",
     "text": [
      "[Parallel(n_jobs=-1)]: Using backend LokyBackend with 8 concurrent workers.\n",
      "[Parallel(n_jobs=-1)]: Done  34 tasks      | elapsed:   16.8s\n",
      "[Parallel(n_jobs=-1)]: Done 184 tasks      | elapsed:  1.3min\n",
      "[Parallel(n_jobs=-1)]: Done 250 out of 250 | elapsed:  1.8min finished\n"
     ]
    },
    {
     "name": "stdout",
     "output_type": "stream",
     "text": [
      "Fitting 5 folds for each of 50 candidates, totalling 250 fits\n"
     ]
    },
    {
     "name": "stderr",
     "output_type": "stream",
     "text": [
      "[Parallel(n_jobs=-1)]: Using backend LokyBackend with 8 concurrent workers.\n",
      "[Parallel(n_jobs=-1)]: Done  34 tasks      | elapsed:   15.0s\n",
      "[Parallel(n_jobs=-1)]: Done 184 tasks      | elapsed:  1.3min\n",
      "[Parallel(n_jobs=-1)]: Done 250 out of 250 | elapsed:  1.7min finished\n"
     ]
    },
    {
     "name": "stdout",
     "output_type": "stream",
     "text": [
      "Fitting 5 folds for each of 50 candidates, totalling 250 fits\n"
     ]
    },
    {
     "name": "stderr",
     "output_type": "stream",
     "text": [
      "[Parallel(n_jobs=-1)]: Using backend LokyBackend with 8 concurrent workers.\n",
      "[Parallel(n_jobs=-1)]: Done  34 tasks      | elapsed:   16.8s\n",
      "[Parallel(n_jobs=-1)]: Done 184 tasks      | elapsed:  1.4min\n",
      "[Parallel(n_jobs=-1)]: Done 250 out of 250 | elapsed:  1.8min finished\n"
     ]
    },
    {
     "name": "stdout",
     "output_type": "stream",
     "text": [
      "Fitting 5 folds for each of 50 candidates, totalling 250 fits\n"
     ]
    },
    {
     "name": "stderr",
     "output_type": "stream",
     "text": [
      "[Parallel(n_jobs=-1)]: Using backend LokyBackend with 8 concurrent workers.\n",
      "[Parallel(n_jobs=-1)]: Done  34 tasks      | elapsed:   15.4s\n",
      "[Parallel(n_jobs=-1)]: Done 184 tasks      | elapsed:  1.3min\n",
      "[Parallel(n_jobs=-1)]: Done 250 out of 250 | elapsed:  1.7min finished\n"
     ]
    },
    {
     "name": "stdout",
     "output_type": "stream",
     "text": [
      "bal:  0.7810912967921397\n",
      "recall:  0.7923809523809524\n",
      "auc:  0.7848623511904762\n",
      "gmeans:  0.7837881576114641\n"
     ]
    }
   ],
   "source": [
    "\n",
    "repro()\n",
    "search_pc4 = search_DT(data_pc4, 'c', 5, smote=True)"
   ]
  },
  {
   "cell_type": "markdown",
   "metadata": {},
   "source": [
    "### JM1"
   ]
  },
  {
   "cell_type": "code",
   "execution_count": 18,
   "metadata": {
    "scrolled": true
   },
   "outputs": [
    {
     "name": "stdout",
     "output_type": "stream",
     "text": [
      "Fitting 5 folds for each of 50 candidates, totalling 250 fits\n"
     ]
    },
    {
     "name": "stderr",
     "output_type": "stream",
     "text": [
      "[Parallel(n_jobs=-1)]: Using backend LokyBackend with 8 concurrent workers.\n",
      "[Parallel(n_jobs=-1)]: Done  34 tasks      | elapsed:   12.9s\n",
      "[Parallel(n_jobs=-1)]: Done 184 tasks      | elapsed:  1.1min\n",
      "[Parallel(n_jobs=-1)]: Done 250 out of 250 | elapsed:  1.5min finished\n"
     ]
    },
    {
     "name": "stdout",
     "output_type": "stream",
     "text": [
      "Fitting 5 folds for each of 50 candidates, totalling 250 fits\n"
     ]
    },
    {
     "name": "stderr",
     "output_type": "stream",
     "text": [
      "[Parallel(n_jobs=-1)]: Using backend LokyBackend with 8 concurrent workers.\n",
      "[Parallel(n_jobs=-1)]: Done  34 tasks      | elapsed:   14.5s\n",
      "[Parallel(n_jobs=-1)]: Done 184 tasks      | elapsed:  1.2min\n",
      "[Parallel(n_jobs=-1)]: Done 250 out of 250 | elapsed:  1.7min finished\n"
     ]
    },
    {
     "name": "stdout",
     "output_type": "stream",
     "text": [
      "Fitting 5 folds for each of 50 candidates, totalling 250 fits\n"
     ]
    },
    {
     "name": "stderr",
     "output_type": "stream",
     "text": [
      "[Parallel(n_jobs=-1)]: Using backend LokyBackend with 8 concurrent workers.\n",
      "[Parallel(n_jobs=-1)]: Done  34 tasks      | elapsed:   12.8s\n",
      "[Parallel(n_jobs=-1)]: Done 184 tasks      | elapsed:  1.1min\n",
      "[Parallel(n_jobs=-1)]: Done 250 out of 250 | elapsed:  1.6min finished\n"
     ]
    },
    {
     "name": "stdout",
     "output_type": "stream",
     "text": [
      "Fitting 5 folds for each of 50 candidates, totalling 250 fits\n"
     ]
    },
    {
     "name": "stderr",
     "output_type": "stream",
     "text": [
      "[Parallel(n_jobs=-1)]: Using backend LokyBackend with 8 concurrent workers.\n",
      "[Parallel(n_jobs=-1)]: Done  34 tasks      | elapsed:   14.1s\n",
      "[Parallel(n_jobs=-1)]: Done 184 tasks      | elapsed:  1.2min\n",
      "[Parallel(n_jobs=-1)]: Done 250 out of 250 | elapsed:  1.6min finished\n"
     ]
    },
    {
     "name": "stdout",
     "output_type": "stream",
     "text": [
      "Fitting 5 folds for each of 50 candidates, totalling 250 fits\n"
     ]
    },
    {
     "name": "stderr",
     "output_type": "stream",
     "text": [
      "[Parallel(n_jobs=-1)]: Using backend LokyBackend with 8 concurrent workers.\n",
      "[Parallel(n_jobs=-1)]: Done  34 tasks      | elapsed:   13.2s\n",
      "[Parallel(n_jobs=-1)]: Done 184 tasks      | elapsed:  1.2min\n",
      "[Parallel(n_jobs=-1)]: Done 250 out of 250 | elapsed:  1.5min finished\n"
     ]
    },
    {
     "name": "stdout",
     "output_type": "stream",
     "text": [
      "bal:  0.6511349355186618\n",
      "recall:  0.6352901255514081\n",
      "auc:  0.6532389078911892\n",
      "gmeans:  0.6520832901187115\n"
     ]
    }
   ],
   "source": [
    "repro()\n",
    "search_jm1 = search_DT(data_jm1, 'defects', 5, smote=True)"
   ]
  }
 ],
 "metadata": {
  "colab": {
   "collapsed_sections": [],
   "name": "SMOTE_NN_IEEE.ipynb",
   "provenance": [],
   "toc_visible": true
  },
  "kernelspec": {
   "display_name": "Python 3",
   "language": "python",
   "name": "python3"
  },
  "language_info": {
   "codemirror_mode": {
    "name": "ipython",
    "version": 3
   },
   "file_extension": ".py",
   "mimetype": "text/x-python",
   "name": "python",
   "nbconvert_exporter": "python",
   "pygments_lexer": "ipython3",
   "version": "3.8.3"
  }
 },
 "nbformat": 4,
 "nbformat_minor": 1
}
